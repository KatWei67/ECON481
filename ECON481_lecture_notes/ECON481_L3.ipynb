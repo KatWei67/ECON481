{
 "cells": [
  {
   "cell_type": "code",
   "execution_count": 4,
   "metadata": {},
   "outputs": [
    {
     "name": "stdout",
     "output_type": "stream",
     "text": [
      "14.1 ms ± 216 µs per loop (mean ± std. dev. of 7 runs, 100 loops each)\n"
     ]
    }
   ],
   "source": [
    "### Numerical Computing\n",
    "\n",
    "### numpy (fast, standard, broadcasting)\n",
    "\n",
    "### vectorization\n",
    "# generate a list of the numbers from 0 to 999,999 and then multiple the list by 2\n",
    "\n",
    "# basic (list)\n",
    "raw_range = range(1000000)\n",
    "raw_list = list(raw_range)\n",
    "%timeit raw_list_x_2 = [x==2 for x in raw_list]\n"
   ]
  },
  {
   "cell_type": "code",
   "execution_count": 5,
   "metadata": {},
   "outputs": [
    {
     "name": "stdout",
     "output_type": "stream",
     "text": [
      "19.8 ms ± 354 µs per loop (mean ± std. dev. of 7 runs, 100 loops each)\n"
     ]
    }
   ],
   "source": [
    "# way 2\n",
    "new_list = []\n",
    "%timeit for x in raw_list: new_list.append(x*2)"
   ]
  },
  {
   "cell_type": "code",
   "execution_count": 2,
   "metadata": {},
   "outputs": [
    {
     "name": "stdout",
     "output_type": "stream",
     "text": [
      "592 µs ± 3.48 µs per loop (mean ± std. dev. of 7 runs, 1,000 loops each)\n"
     ]
    }
   ],
   "source": [
    "# numpy\n",
    "import numpy as np\n",
    "raw_arry = np.arange(1000000)\n",
    "%timeit raw_arry_x_2 = 2 * raw_arry\n",
    "\n",
    "# numpy solution is 100 times faster than list solution\n"
   ]
  },
  {
   "cell_type": "code",
   "execution_count": 7,
   "metadata": {},
   "outputs": [
    {
     "name": "stdout",
     "output_type": "stream",
     "text": [
      "2.88 µs ± 44.2 ns per loop (mean ± std. dev. of 7 runs, 100,000 loops each)\n"
     ]
    },
    {
     "data": {
      "text/plain": [
       "True"
      ]
     },
     "execution_count": 7,
     "metadata": {},
     "output_type": "execute_result"
    }
   ],
   "source": [
    "# Inner Product\n",
    "\n",
    "def inner_product_slow(x_1: list, x_2: list) -> float:\n",
    "    \"\"\"\n",
    "    Compute the inner product of two lists\n",
    "    \"\"\"\n",
    "\n",
    "    inner_prod = 0\n",
    "    for i in range(len(x_1)):\n",
    "        inner_prod += x_1[i] * x_2[i]\n",
    "    return inner_prod\n",
    "\n",
    "# np.inner\n",
    "x_1 = list(range(100))\n",
    "x_2 = list(range(100, 200))\n",
    "%timeit inner_product_slow(x_1,x_2)\n",
    "\n",
    "np.inner(x_1,x_2) == inner_product_slow(x_1,x_2)\n",
    "\n"
   ]
  },
  {
   "cell_type": "code",
   "execution_count": 8,
   "metadata": {},
   "outputs": [],
   "source": [
    "# Factorial \n",
    "%timeit np.prob(np.arange(1,11))"
   ]
  },
  {
   "cell_type": "code",
   "execution_count": null,
   "metadata": {},
   "outputs": [
    {
     "name": "stdout",
     "output_type": "stream",
     "text": [
      "Matrix A:\n",
      " [[0 1]\n",
      " [2 3]\n",
      " [4 5]\n",
      " [6 7]\n",
      " [8 9]]\n",
      "Matrix B:\n",
      " [[10 11 12 13 14]\n",
      " [15 16 17 18 19]]\n",
      "Product:\n",
      " [[ 15  16  17  18  19]\n",
      " [ 65  70  75  80  85]\n",
      " [115 124 133 142 151]\n",
      " [165 178 191 204 217]\n",
      " [215 232 249 266 283]]\n"
     ]
    }
   ],
   "source": [
    "# matrix multiplication\n",
    "import numpy as np\n",
    "A = np.arange(10).reshape((5,2))\n",
    "B = np.arange(10, 20).reshape((2,5))\n",
    "\n",
    "print(f'Matrix A:\\n {A}')\n",
    "print(f'Matrix B:\\n {B}')\n",
    "print(f'Product:\\n {A @ B}')"
   ]
  },
  {
   "cell_type": "code",
   "execution_count": null,
   "metadata": {},
   "outputs": [
    {
     "data": {
      "text/plain": [
       "(10,)"
      ]
     },
     "execution_count": 9,
     "metadata": {},
     "output_type": "execute_result"
    }
   ],
   "source": [
    "# reshaping array\n",
    "len_one_arr = np.ones(10)\n",
    "len_one_arr.shape\n",
    "# leave one dimension as -1 to tell numpy\n",
    "len_two_arr = len_one_arr.reshape((-1,1))\n",
    "len_two_arr.shape\n",
    "# len_three_arr = len_one_arr.reshape((-1,2,1))\n",
    "len_three_arr = len_one_arr.reshape((-1,2,1))\n",
    "len_three_arr.shape"
   ]
  },
  {
   "cell_type": "code",
   "execution_count": null,
   "metadata": {},
   "outputs": [
    {
     "data": {
      "text/plain": [
       "array([[ 0,  1],\n",
       "       [ 5,  6],\n",
       "       [10, 11]])"
      ]
     },
     "execution_count": 13,
     "metadata": {},
     "output_type": "execute_result"
    }
   ],
   "source": [
    "### Indexing in numpy\n",
    "my_arr = np.arange(20).reshape((4,5))\n",
    "my_arr\n",
    "\n",
    "# access 1st row\n",
    "my_arr[0,:]\n",
    "\n",
    "#acces 1st col\n",
    "my_arr[:,0]\n",
    "\n",
    "#access first three rows and first two cols\n",
    "my_arr[:3,:2]"
   ]
  },
  {
   "cell_type": "code",
   "execution_count": null,
   "metadata": {},
   "outputs": [
    {
     "name": "stderr",
     "output_type": "stream",
     "text": [
      "/var/folders/gz/0z81jqhd0kj0fqg5nl86x03w0000gn/T/ipykernel_4817/2758600917.py:5: RuntimeWarning: divide by zero encountered in divide\n",
      "  1. / my_arr\n"
     ]
    },
    {
     "data": {
      "text/plain": [
       "array([[       inf, 1.        , 0.5       , 0.33333333, 0.25      ],\n",
       "       [0.2       , 0.16666667, 0.14285714, 0.125     , 0.11111111],\n",
       "       [0.1       , 0.09090909, 0.08333333, 0.07692308, 0.07142857],\n",
       "       [0.06666667, 0.0625    , 0.05882353, 0.05555556, 0.05263158]])"
      ]
     },
     "execution_count": 16,
     "metadata": {},
     "output_type": "execute_result"
    }
   ],
   "source": [
    "### arithmetic in numpy\n",
    "# multiplication\n",
    "5. * my_arr\n",
    "# dividing\n",
    "1. / my_arr\n"
   ]
  },
  {
   "cell_type": "code",
   "execution_count": null,
   "metadata": {},
   "outputs": [
    {
     "data": {
      "text/plain": [
       "array([[  0,   1,   4,   9,  16],\n",
       "       [ 25,  36,  49,  64,  81],\n",
       "       [100, 121, 144, 169, 196],\n",
       "       [225, 256, 289, 324, 361]])"
      ]
     },
     "execution_count": 17,
     "metadata": {},
     "output_type": "execute_result"
    }
   ],
   "source": [
    "### array operaton\n",
    "# multiple array by array\n",
    "my_arr * my_arr"
   ]
  },
  {
   "cell_type": "code",
   "execution_count": null,
   "metadata": {},
   "outputs": [
    {
     "data": {
      "text/plain": [
       "array([[False, False, False, False, False],\n",
       "       [False, False, False, False, False],\n",
       "       [False,  True,  True,  True,  True],\n",
       "       [ True,  True,  True,  True,  True]])"
      ]
     },
     "execution_count": 18,
     "metadata": {},
     "output_type": "execute_result"
    }
   ],
   "source": [
    "# boolean arrays with elements-wise comparisions\n",
    "my_arr > 10."
   ]
  },
  {
   "cell_type": "code",
   "execution_count": null,
   "metadata": {},
   "outputs": [
    {
     "data": {
      "text/plain": [
       "array([[4, 1],\n",
       "       [0, 6],\n",
       "       [6, 2],\n",
       "       [6, 9],\n",
       "       [6, 7]])"
      ]
     },
     "execution_count": 19,
     "metadata": {},
     "output_type": "execute_result"
    }
   ],
   "source": [
    "### boolean indexing\n",
    "new_arr = np.array([4,1,0,6,6,2,6,9,6,7]).reshape((5,2))\n",
    "new_arr"
   ]
  },
  {
   "cell_type": "code",
   "execution_count": null,
   "metadata": {},
   "outputs": [
    {
     "data": {
      "text/plain": [
       "array([False, False, False,  True,  True])"
      ]
     },
     "execution_count": 20,
     "metadata": {},
     "output_type": "execute_result"
    }
   ],
   "source": [
    "# only want cols where the sum of numbers is more than 10\n",
    "# first get a boolean array\n",
    "cond = np.sum(new_arr, axis = 1) > 10\n",
    "cond\n",
    "#second, index to only such array\n",
    "print(new_arr[cond])\n",
    "print(new_arr[~cond])"
   ]
  },
  {
   "cell_type": "code",
   "execution_count": null,
   "metadata": {},
   "outputs": [
    {
     "data": {
      "text/plain": [
       "array([3, 2, 1, 0, 1, 2])"
      ]
     },
     "execution_count": 21,
     "metadata": {},
     "output_type": "execute_result"
    }
   ],
   "source": [
    "### exercise: absolute value\n",
    "def my_abs(arr: np.array) -> np.array:\n",
    "    \"\"\"Compute absolute value of an array\"\"\"\n",
    "\n",
    "    neg_elements = arr < 0\n",
    "    arr[neg_elements] = arr[neg_elements] * -1\n",
    "    return arr\n",
    "\n",
    "my_abs(np.arange(-3,3))\n",
    "\n",
    "# alternatively, use handy np.sign function\n",
    "np.arange(-3,3) * np.sign(np.arange(-3,3))"
   ]
  },
  {
   "cell_type": "code",
   "execution_count": null,
   "metadata": {},
   "outputs": [
    {
     "data": {
      "text/plain": [
       "array([[0.        , 1.        , 1.41421356, 1.73205081, 2.        ],\n",
       "       [2.23606798, 2.44948974, 2.64575131, 2.82842712, 3.        ],\n",
       "       [3.16227766, 3.31662479, 3.46410162, 3.60555128, 3.74165739],\n",
       "       [3.87298335, 4.        , 4.12310563, 4.24264069, 4.35889894]])"
      ]
     },
     "execution_count": 23,
     "metadata": {},
     "output_type": "execute_result"
    }
   ],
   "source": [
    "### Universal Function\n",
    "# vectorized math\n",
    "np.exp(my_arr)"
   ]
  },
  {
   "cell_type": "code",
   "execution_count": null,
   "metadata": {},
   "outputs": [],
   "source": [
    "np.sqrt(my_arr)"
   ]
  },
  {
   "cell_type": "code",
   "execution_count": null,
   "metadata": {},
   "outputs": [
    {
     "data": {
      "text/plain": [
       "array([30, 34, 38, 42, 46])"
      ]
     },
     "execution_count": 26,
     "metadata": {},
     "output_type": "execute_result"
    }
   ],
   "source": [
    "# aggregating functons\n",
    "my_arr\n",
    "np.sum(my_arr)\n",
    "np.sum(my_arr, axis = 0)"
   ]
  },
  {
   "cell_type": "code",
   "execution_count": null,
   "metadata": {},
   "outputs": [
    {
     "name": "stdout",
     "output_type": "stream",
     "text": [
      "[4 0 6 6 6] [1 6 2 9 7]\n"
     ]
    },
    {
     "data": {
      "text/plain": [
       "array([4, 6, 6, 9, 7])"
      ]
     },
     "execution_count": 29,
     "metadata": {},
     "output_type": "execute_result"
    }
   ],
   "source": [
    "# Binal Universal function\n",
    "a = new_arr[:,0]\n",
    "b = new_arr[:,1]\n",
    "print(a,b)\n",
    "np.maximum(a,b)\n",
    "np.max(new_arr, axis = 1)"
   ]
  },
  {
   "cell_type": "code",
   "execution_count": null,
   "metadata": {},
   "outputs": [
    {
     "data": {
      "text/plain": [
       "array([[ 0.99682186, -0.05657879,  0.04291416],\n",
       "       [-0.05657879,  2.00496101, -0.1085623 ],\n",
       "       [ 0.04291416, -0.1085623 ,  3.09964853]])"
      ]
     },
     "execution_count": 4,
     "metadata": {},
     "output_type": "execute_result"
    }
   ],
   "source": [
    "### broadcasting\n",
    "# make calculating the variance/covariance matrix of vector of random variables easy\n",
    "\n"
   ]
  },
  {
   "cell_type": "code",
   "execution_count": null,
   "metadata": {},
   "outputs": [
    {
     "name": "stdout",
     "output_type": "stream",
     "text": [
      "vec shape: (1, 5), mat shape: (3, 5)\n"
     ]
    },
    {
     "name": "stderr",
     "output_type": "stream",
     "text": [
      "/var/folders/gz/0z81jqhd0kj0fqg5nl86x03w0000gn/T/ipykernel_4817/4061457081.py:6: RuntimeWarning: divide by zero encountered in divide\n",
      "  (mat / vec).shape\n"
     ]
    },
    {
     "data": {
      "text/plain": [
       "(3, 5)"
      ]
     },
     "execution_count": 32,
     "metadata": {},
     "output_type": "execute_result"
    }
   ],
   "source": [
    "vec = np.arange(5).reshape((-1,5))\n",
    "mat = np.ones(15).reshape((-1,5))\n",
    "print(f'vec shape: {vec.shape}, mat shape: {mat.shape}')\n",
    "\n",
    "# baively divede\n",
    "(mat / vec).shape\n",
    "\n",
    "# divide other direction\n",
    "(vec / mat).shape"
   ]
  },
  {
   "cell_type": "code",
   "execution_count": null,
   "metadata": {},
   "outputs": [
    {
     "name": "stdout",
     "output_type": "stream",
     "text": [
      "[[0 1 2 3 4]]\n",
      "[[1. 1. 1. 1. 1.]\n",
      " [1. 1. 1. 1. 1.]\n",
      " [1. 1. 1. 1. 1.]]\n",
      "[[       inf 1.         0.5        0.33333333 0.25      ]\n",
      " [       inf 1.         0.5        0.33333333 0.25      ]\n",
      " [       inf 1.         0.5        0.33333333 0.25      ]]\n",
      "[[0. 1. 2. 3. 4.]\n",
      " [0. 1. 2. 3. 4.]\n",
      " [0. 1. 2. 3. 4.]]\n"
     ]
    },
    {
     "name": "stderr",
     "output_type": "stream",
     "text": [
      "/var/folders/gz/0z81jqhd0kj0fqg5nl86x03w0000gn/T/ipykernel_4817/3154884622.py:4: RuntimeWarning: divide by zero encountered in divide\n",
      "  print(mat / vec)\n"
     ]
    }
   ],
   "source": [
    "# broadcasted results\n",
    "print(vec)\n",
    "print(mat)\n",
    "print(mat / vec)\n",
    "print(vec / mat)"
   ]
  },
  {
   "cell_type": "code",
   "execution_count": null,
   "metadata": {},
   "outputs": [
    {
     "data": {
      "text/plain": [
       "array([[ 1.00421434, -0.00974508,  0.01318807],\n",
       "       [-0.00974508,  1.97901319,  0.02468962],\n",
       "       [ 0.01318807,  0.02468962,  3.08110601]])"
      ]
     },
     "execution_count": 1,
     "metadata": {},
     "output_type": "execute_result"
    }
   ],
   "source": [
    "# Exercise: covariance matrix\n",
    "import numpy as np\n",
    "draws = np.random.multivariate_normal(\n",
    "    mean = np.arange(6,9),\n",
    "    cov = np.diag(np.arange(1,4)),\n",
    "    size = 1000\n",
    ")\n",
    "\n",
    "demeaned_draws = draws - np.mean(draws, axis = 0)\n",
    "demeaned_draws.T @ demeaned_draws / 1000\n"
   ]
  },
  {
   "cell_type": "code",
   "execution_count": null,
   "metadata": {},
   "outputs": [
    {
     "ename": "NameError",
     "evalue": "name 'my_arr' is not defined",
     "output_type": "error",
     "traceback": [
      "\u001b[0;31m---------------------------------------------------------------------------\u001b[0m",
      "\u001b[0;31mNameError\u001b[0m                                 Traceback (most recent call last)",
      "Cell \u001b[0;32mIn[3], line 16\u001b[0m\n\u001b[1;32m     12\u001b[0m     sigma_j \u001b[38;5;241m=\u001b[39m np\u001b[38;5;241m.\u001b[39mstd(arr, axis \u001b[38;5;241m=\u001b[39m \u001b[38;5;241m0\u001b[39m)\n\u001b[1;32m     14\u001b[0m     \u001b[38;5;28;01mreturn\u001b[39;00m (arr \u001b[38;5;241m-\u001b[39m mu_j) \u001b[38;5;241m/\u001b[39m sigma_j\n\u001b[0;32m---> 16\u001b[0m standardize(my_arr)\n",
      "\u001b[0;31mNameError\u001b[0m: name 'my_arr' is not defined"
     ]
    }
   ],
   "source": [
    "### Exercise: Standardizing Features\n",
    "# rewrite sklearn.preprocessing.StandardSccler\n",
    "\n",
    "from sklearn.preprocessing import StandardScaler\n",
    "\n",
    "def standardize(arr: np.array) -> np.array: \n",
    "    \"\"\"\n",
    "    Standardize the features in `arr`\n",
    "    \"\"\"\n",
    "\n",
    "    mu_j = np.mean(arr, axis = 0)\n",
    "    sigma_j = np.std(arr, axis = 0)\n",
    "\n",
    "    return (arr - mu_j) / sigma_j\n",
    "\n",
    "standardize(new_arr)"
   ]
  },
  {
   "cell_type": "code",
   "execution_count": null,
   "metadata": {},
   "outputs": [
    {
     "name": "stdout",
     "output_type": "stream",
     "text": [
      "0.0010545200848978552 0.9973989056303378\n"
     ]
    }
   ],
   "source": [
    "# random draws\n",
    "draws = np.random.standard_normal(100000)\n",
    "print(np.mean(draws), np.std(draws))"
   ]
  },
  {
   "cell_type": "code",
   "execution_count": null,
   "metadata": {},
   "outputs": [],
   "source": [
    "### seeds\n",
    "#\n",
    "rng = np.random.default_rng(seed=481) # rng = random number generator\n",
    "rng_draws = rng.standard_normal(100000)\n",
    "print(np.mean(rng_draws), np.std(rng_draws))\n"
   ]
  },
  {
   "cell_type": "code",
   "execution_count": null,
   "metadata": {},
   "outputs": [
    {
     "name": "stdout",
     "output_type": "stream",
     "text": [
      "-2.977436149096266e-05 0.031892612678989775\n"
     ]
    }
   ],
   "source": [
    "### Exercise: Random\n",
    "%%time\n",
    "rng = np.random.default_rng(seed=481)\n",
    "\n",
    "sample_means = []\n",
    "for i in range(1000):\n",
    "    sample_means.append(np.mean(rng.standard_normal(size=1000)))\n",
    "\n",
    "print(np.mean(sample_means), np.std(sample_means))"
   ]
  },
  {
   "cell_type": "code",
   "execution_count": null,
   "metadata": {},
   "outputs": [
    {
     "name": "stdout",
     "output_type": "stream",
     "text": [
      "-2.9774361490962882e-05 1.000647193189829\n"
     ]
    }
   ],
   "source": [
    "# fast way\n",
    "%%time\n",
    "rng = np.random.default_rng(seed=481)\n",
    "\n",
    "random_draws = rng.standard_normal(size=1000*1000).reshape((1000,1000))\n",
    "sample_means = np.mean(random_draws, axis = 0)\n",
    "\n",
    "print(np.mean(sample_means), np.std(sample_means))"
   ]
  },
  {
   "cell_type": "code",
   "execution_count": null,
   "metadata": {},
   "outputs": [],
   "source": [
    "### Application 1: Linear Regression\n",
    "# (salary data) n=observations, m=variables\n",
    "# first, load the data. (use panda import csv file)\n",
    "# second, calculating estimator\n",
    "# beta_hat = np.linalig.inv(X.T @ X) @ X.T @ y\n",
    "# third, adding intersecpt\n",
    "\n",
    "# run second with intersept\n",
    "# check with sklearn or using numpy"
   ]
  },
  {
   "cell_type": "code",
   "execution_count": 5,
   "metadata": {},
   "outputs": [
    {
     "name": "stdout",
     "output_type": "stream",
     "text": [
      "(6, 4) (6, 1)\n"
     ]
    },
    {
     "ename": "ValueError",
     "evalue": "all the input array dimensions except for the concatenation axis must match exactly, but along dimension 1, the array at index 0 has size 1 and the array at index 1 has size 4",
     "output_type": "error",
     "traceback": [
      "\u001b[0;31m---------------------------------------------------------------------------\u001b[0m",
      "\u001b[0;31mValueError\u001b[0m                                Traceback (most recent call last)",
      "Cell \u001b[0;32mIn[5], line 27\u001b[0m\n\u001b[1;32m     24\u001b[0m X_int\n\u001b[1;32m     26\u001b[0m \u001b[38;5;66;03m# need axis\u001b[39;00m\n\u001b[0;32m---> 27\u001b[0m np\u001b[38;5;241m.\u001b[39mconcatenate(\n\u001b[1;32m     28\u001b[0m     [\n\u001b[1;32m     29\u001b[0m         np\u001b[38;5;241m.\u001b[39mones(X\u001b[38;5;241m.\u001b[39mshape[\u001b[38;5;241m0\u001b[39m])\u001b[38;5;241m.\u001b[39mreshape(\u001b[38;5;241m-\u001b[39m\u001b[38;5;241m1\u001b[39m,\u001b[38;5;241m1\u001b[39m),\n\u001b[1;32m     30\u001b[0m         X,\n\u001b[1;32m     31\u001b[0m     ]\n\u001b[1;32m     32\u001b[0m )\n",
      "\u001b[0;31mValueError\u001b[0m: all the input array dimensions except for the concatenation axis must match exactly, but along dimension 1, the array at index 0 has size 1 and the array at index 1 has size 4"
     ]
    }
   ],
   "source": [
    "# Loading data\n",
    "X = np.array(\n",
    "    [\n",
    "        [2,1200,3.2,0],\n",
    "        [1,1400,3.8,1],\n",
    "        [19,900,2.5,0],\n",
    "        [10,1400,3.8,1],\n",
    "        [5,1000,3.0,0],\n",
    "        [4,1100,3.9,0]\n",
    "    ]\n",
    ")\n",
    "y = np.array([60000, 90000, 30000, 200000, 150000, 30000]).reshape(-1,1)\n",
    "\n",
    "print(X.shape, y.shape)\n",
    "\n",
    "# adding intercept\n",
    "X_int = np.concatenate(\n",
    "    [\n",
    "        np.ones(X.shape[0]).reshape(-1,1),\n",
    "        X,\n",
    "    ],\n",
    "    axis = 1\n",
    ")\n",
    "X_int\n",
    "\n",
    "# need axis\n",
    "np.concatenate(\n",
    "    [\n",
    "        np.ones(X.shape[0]).reshape(-1,1),\n",
    "        X,\n",
    "    ]\n",
    ")"
   ]
  },
  {
   "cell_type": "code",
   "execution_count": null,
   "metadata": {},
   "outputs": [],
   "source": [
    "# adding row/col \n",
    "# np.r, np.c\n",
    "# perfomoring operation\n",
    "# np.hstack\n"
   ]
  },
  {
   "cell_type": "code",
   "execution_count": null,
   "metadata": {},
   "outputs": [],
   "source": [
    "\n"
   ]
  }
 ],
 "metadata": {
  "kernelspec": {
   "display_name": "Python 3",
   "language": "python",
   "name": "python3"
  },
  "language_info": {
   "codemirror_mode": {
    "name": "ipython",
    "version": 3
   },
   "file_extension": ".py",
   "mimetype": "text/x-python",
   "name": "python",
   "nbconvert_exporter": "python",
   "pygments_lexer": "ipython3",
   "version": "3.11.7"
  }
 },
 "nbformat": 4,
 "nbformat_minor": 2
}
