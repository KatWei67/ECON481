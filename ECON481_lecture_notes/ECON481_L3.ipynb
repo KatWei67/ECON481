{
 "cells": [
  {
   "cell_type": "code",
   "execution_count": 1,
   "metadata": {},
   "outputs": [
    {
     "name": "stdout",
     "output_type": "stream",
     "text": [
      "31.1 ms ± 1.04 ms per loop (mean ± std. dev. of 7 runs, 10 loops each)\n"
     ]
    }
   ],
   "source": [
    "### Numerical Computing\n",
    "\n",
    "### numpy (fast, standard, broadcasting)\n",
    "\n",
    "### vectorization\n",
    "# generate a list of the numbers from 0 to 999,999 and then multiple the list by 2\n",
    "\n",
    "# basic \n",
    "raw_range = range(1000000)\n",
    "raw_list = list(raw_range)\n",
    "%timeit raw_list_x_2 = [x==2 for x in raw_list]\n"
   ]
  },
  {
   "cell_type": "code",
   "execution_count": null,
   "metadata": {},
   "outputs": [],
   "source": [
    "# way 2\n",
    "new_list = []\n",
    "for x in "
   ]
  },
  {
   "cell_type": "code",
   "execution_count": 3,
   "metadata": {},
   "outputs": [
    {
     "name": "stdout",
     "output_type": "stream",
     "text": [
      "592 µs ± 20.1 µs per loop (mean ± std. dev. of 7 runs, 1,000 loops each)\n"
     ]
    }
   ],
   "source": [
    "# numpy\n",
    "import numpy as np\n",
    "raw_arry = np.arange(1000000)\n",
    "%timeit raw_arry_x_2 = 2 * raw_arry\n",
    "\n",
    "# numpy solution is 100 times faster than list solution\n"
   ]
  },
  {
   "cell_type": "code",
   "execution_count": 4,
   "metadata": {},
   "outputs": [
    {
     "ename": "TypeError",
     "evalue": "inner() missing 1 required positional argument: 'b'",
     "output_type": "error",
     "traceback": [
      "\u001b[0;31m---------------------------------------------------------------------------\u001b[0m",
      "\u001b[0;31mTypeError\u001b[0m                                 Traceback (most recent call last)",
      "Cell \u001b[0;32mIn[4], line 3\u001b[0m\n\u001b[1;32m      1\u001b[0m \u001b[38;5;66;03m# np.inner\u001b[39;00m\n\u001b[1;32m      2\u001b[0m x_1_arr \u001b[38;5;241m=\u001b[39m np\u001b[38;5;241m.\u001b[39marange(\u001b[38;5;241m100\u001b[39m)\n\u001b[0;32m----> 3\u001b[0m x_2_arr \u001b[38;5;241m=\u001b[39m np\u001b[38;5;241m.\u001b[39minner(\u001b[38;5;241m1000000\u001b[39m)\n",
      "\u001b[0;31mTypeError\u001b[0m: inner() missing 1 required positional argument: 'b'"
     ]
    }
   ],
   "source": [
    "# np.inner\n",
    "x_1_arr = np.arange(100)\n",
    "x_2_arr = np.inner(1000000)"
   ]
  },
  {
   "cell_type": "code",
   "execution_count": 7,
   "metadata": {},
   "outputs": [
    {
     "name": "stdout",
     "output_type": "stream",
     "text": [
      "Matrix A:\n",
      " [[0 1]\n",
      " [2 3]\n",
      " [4 5]\n",
      " [6 7]\n",
      " [8 9]]\n",
      "Matrix B:\n",
      " [[10 11 12 13 14]\n",
      " [15 16 17 18 19]]\n"
     ]
    }
   ],
   "source": [
    "# matrix multiplication\n",
    "import numpy as np\n",
    "A = np.arange(10).reshape((5,2))\n",
    "B = np.arange(10, 20).reshape((2,5))\n",
    "\n",
    "print(f'Matrix A:\\n {A}')\n",
    "print(f'Matrix B:\\n {B}')"
   ]
  },
  {
   "cell_type": "code",
   "execution_count": 1,
   "metadata": {},
   "outputs": [],
   "source": [
    "# reshaping array\n",
    "# leave one dimension as -1 to tell numpy\n",
    "# len_three_arr = len_one_arr.reshape((-1,2,1))"
   ]
  },
  {
   "cell_type": "code",
   "execution_count": null,
   "metadata": {},
   "outputs": [],
   "source": [
    "### broadcasting\n",
    "\n"
   ]
  }
 ],
 "metadata": {
  "kernelspec": {
   "display_name": "Python 3",
   "language": "python",
   "name": "python3"
  },
  "language_info": {
   "codemirror_mode": {
    "name": "ipython",
    "version": 3
   },
   "file_extension": ".py",
   "mimetype": "text/x-python",
   "name": "python",
   "nbconvert_exporter": "python",
   "pygments_lexer": "ipython3",
   "version": "3.11.7"
  }
 },
 "nbformat": 4,
 "nbformat_minor": 2
}
