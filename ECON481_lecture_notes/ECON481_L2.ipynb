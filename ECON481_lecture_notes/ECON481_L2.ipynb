{
 "cells": [
  {
   "cell_type": "code",
   "execution_count": 1,
   "metadata": {},
   "outputs": [],
   "source": [
    "### Pass \n",
    "# pyhton do nothing \n",
    "x = 0\n",
    "if x < 0:\n",
    "    print(\"negative\")\n",
    "elif x == 0:\n",
    "    pass\n",
    "else: \n",
    "    print(\"positive\")\n"
   ]
  },
  {
   "cell_type": "code",
   "execution_count": 2,
   "metadata": {},
   "outputs": [
    {
     "data": {
      "text/plain": [
       "(63, 2016)"
      ]
     },
     "execution_count": 2,
     "metadata": {},
     "output_type": "execute_result"
    }
   ],
   "source": [
    "### break\n",
    "# exit for loops entirely\n",
    "sum = 0\n",
    "n = 0\n",
    "for i in range(2024):\n",
    "    if sum > 2024-i:\n",
    "        n += i-1\n",
    "        break\n",
    "    sum += i\n",
    "n, sum "
   ]
  },
  {
   "cell_type": "code",
   "execution_count": 3,
   "metadata": {},
   "outputs": [],
   "source": [
    "###Exercise Factorial\n",
    "n = 5\n",
    "n_fac = 1\n",
    "for i in range(1,n+1):\n",
    "    n_fac *= i\n",
    "n_fac\n",
    "\n"
   ]
  },
  {
   "cell_type": "code",
   "execution_count": 4,
   "metadata": {},
   "outputs": [
    {
     "data": {
      "text/plain": [
       "2382660.0"
      ]
     },
     "execution_count": 4,
     "metadata": {},
     "output_type": "execute_result"
    }
   ],
   "source": [
    "# loop for binomial coefficient\n",
    "\n",
    "k = 3\n",
    "n_minus_k_fac = 1\n",
    "for i in range(1, n-k+1):\n",
    "    n_minus_k_fac *=i\n",
    "n_choose_k = i\n",
    "for i in range(k+1, n+1):\n",
    "    n_choose_k *= i\n",
    "n_choose_k /= n_minus_k_fac\n",
    "n_choose_k"
   ]
  },
  {
   "cell_type": "code",
   "execution_count": null,
   "metadata": {},
   "outputs": [],
   "source": [
    "# binomial coefficient \n",
    "fac = 1\n",
    "\n",
    "if i < k:\n",
    "    fac /= i\n",
    "if i == k:\n",
    "    pass\n",
    "if i > k:\n",
    "    fac *= i\n"
   ]
  },
  {
   "cell_type": "code",
   "execution_count": 6,
   "metadata": {},
   "outputs": [
    {
     "data": {
      "text/plain": [
       "4"
      ]
     },
     "execution_count": 6,
     "metadata": {},
     "output_type": "execute_result"
    }
   ],
   "source": [
    "### Function\n",
    "\n",
    "# define a function\n",
    "def square(x:float) -> float: #function annotation (define what should be input&output)\n",
    "    \"\"\" explain the function \"\"\" #docstring\n",
    "    return x**2\n",
    "\n",
    "\n",
    "square(2)"
   ]
  },
  {
   "cell_type": "code",
   "execution_count": null,
   "metadata": {},
   "outputs": [],
   "source": [
    "# multiple argument\n",
    "# eg. y = mx + b\n",
    "\n",
    "def linear_function(x:float, m:float=-1, b:float=0) -> float: #set default m, b value\n",
    "    \"\"\"  \n",
    "    \n",
    "    \"\"\"\n",
    "    return m*x + b"
   ]
  },
  {
   "cell_type": "code",
   "execution_count": 3,
   "metadata": {},
   "outputs": [
    {
     "data": {
      "text/plain": [
       "29"
      ]
     },
     "execution_count": 3,
     "metadata": {},
     "output_type": "execute_result"
    }
   ],
   "source": [
    "### Date\n",
    "# datetime import\n",
    "from datetime import datetime, date, time, timedelta\n",
    "\n",
    "\n",
    "# creat a datetime object\n",
    "dt = datetime(2011, 10, 29, 20, 30, 21)\n",
    "dt.day\n"
   ]
  },
  {
   "cell_type": "code",
   "execution_count": 8,
   "metadata": {},
   "outputs": [
    {
     "data": {
      "text/plain": [
       "datetime.date(2011, 10, 29)"
      ]
     },
     "execution_count": 8,
     "metadata": {},
     "output_type": "execute_result"
    }
   ],
   "source": [
    "dt.date()"
   ]
  },
  {
   "cell_type": "code",
   "execution_count": 9,
   "metadata": {},
   "outputs": [
    {
     "data": {
      "text/plain": [
       "datetime.time(20, 30, 21)"
      ]
     },
     "execution_count": 9,
     "metadata": {},
     "output_type": "execute_result"
    }
   ],
   "source": [
    "dt.time()"
   ]
  },
  {
   "cell_type": "code",
   "execution_count": 10,
   "metadata": {},
   "outputs": [
    {
     "data": {
      "text/plain": [
       "'2011-10-29 20:30'"
      ]
     },
     "execution_count": 10,
     "metadata": {},
     "output_type": "execute_result"
    }
   ],
   "source": [
    "# format the object \n",
    "dt.strftime(\"%Y-%m-%d %H:%M\" )"
   ]
  },
  {
   "cell_type": "code",
   "execution_count": 11,
   "metadata": {},
   "outputs": [
    {
     "data": {
      "text/plain": [
       "datetime.datetime(2009, 10, 31, 0, 0)"
      ]
     },
     "execution_count": 11,
     "metadata": {},
     "output_type": "execute_result"
    }
   ],
   "source": [
    "# parse strings into datetime objects:\n",
    "datetime.strptime(\"20091031\", \"%Y%m%d\")"
   ]
  },
  {
   "cell_type": "code",
   "execution_count": 12,
   "metadata": {},
   "outputs": [
    {
     "data": {
      "text/plain": [
       "datetime.timedelta(days=17, seconds=7179)"
      ]
     },
     "execution_count": 12,
     "metadata": {},
     "output_type": "execute_result"
    }
   ],
   "source": [
    "# Time differences\n",
    "dt2 = datetime(2011, 11, 15, 22, 30)\n",
    "delta = dt2 - dt\n",
    "delta"
   ]
  },
  {
   "cell_type": "code",
   "execution_count": 13,
   "metadata": {},
   "outputs": [
    {
     "data": {
      "text/plain": [
       "datetime.datetime(2011, 11, 15, 22, 30)"
      ]
     },
     "execution_count": 13,
     "metadata": {},
     "output_type": "execute_result"
    }
   ],
   "source": [
    "dt + delta"
   ]
  },
  {
   "cell_type": "code",
   "execution_count": 5,
   "metadata": {},
   "outputs": [
    {
     "data": {
      "text/plain": [
       "['2024-03-25',\n",
       " '2023-03-27',\n",
       " '2024-04-01',\n",
       " '2023-04-03',\n",
       " '2024-04-08',\n",
       " '2023-04-10',\n",
       " '2024-04-15',\n",
       " '2023-04-17',\n",
       " '2024-04-22',\n",
       " '2023-04-24',\n",
       " '2024-04-29',\n",
       " '2023-05-01',\n",
       " '2024-05-06',\n",
       " '2023-05-08',\n",
       " '2024-05-13',\n",
       " '2023-05-15',\n",
       " '2024-05-20',\n",
       " '2023-05-22',\n",
       " '2024-05-27',\n",
       " '2023-05-29',\n",
       " '2024-06-03',\n",
       " '2023-06-05',\n",
       " '2024-06-10',\n",
       " '2023-06-12',\n",
       " '2024-06-17',\n",
       " '2023-06-19',\n",
       " '2024-06-24',\n",
       " '2023-06-26',\n",
       " '2024-07-01',\n",
       " '2023-07-03',\n",
       " '2024-07-08',\n",
       " '2023-07-10',\n",
       " '2024-07-15',\n",
       " '2023-07-17',\n",
       " '2024-07-22',\n",
       " '2023-07-24',\n",
       " '2024-07-29',\n",
       " '2023-07-31',\n",
       " '2024-08-05',\n",
       " '2023-08-07',\n",
       " '2024-08-12',\n",
       " '2023-08-14',\n",
       " '2024-08-19',\n",
       " '2023-08-21',\n",
       " '2024-08-26',\n",
       " '2023-08-28',\n",
       " '2024-09-02',\n",
       " '2023-09-04',\n",
       " '2024-09-09',\n",
       " '2023-09-11',\n",
       " '2024-09-16',\n",
       " '2023-09-18',\n",
       " '2024-09-23',\n",
       " '2023-09-25',\n",
       " '2024-09-30',\n",
       " '2023-10-02',\n",
       " '2024-10-07',\n",
       " '2023-10-09',\n",
       " '2024-10-14',\n",
       " '2023-10-16',\n",
       " '2024-10-21',\n",
       " '2023-10-23',\n",
       " '2024-10-28',\n",
       " '2023-10-30',\n",
       " '2024-11-04',\n",
       " '2023-11-06',\n",
       " '2024-11-11',\n",
       " '2023-11-13',\n",
       " '2024-11-18',\n",
       " '2023-11-20',\n",
       " '2024-11-25',\n",
       " '2023-11-27',\n",
       " '2024-12-02',\n",
       " '2023-12-04',\n",
       " '2024-12-09',\n",
       " '2023-12-11',\n",
       " '2024-12-16',\n",
       " '2023-12-18',\n",
       " '2024-12-23',\n",
       " '2023-12-25',\n",
       " '2024-12-30',\n",
       " '2024-01-01',\n",
       " '2025-01-06',\n",
       " '2024-01-08',\n",
       " '2025-01-13',\n",
       " '2024-01-15',\n",
       " '2025-01-20',\n",
       " '2024-01-22',\n",
       " '2025-01-27',\n",
       " '2024-01-29',\n",
       " '2025-02-03',\n",
       " '2024-02-05',\n",
       " '2025-02-10',\n",
       " '2024-02-12',\n",
       " '2025-02-17',\n",
       " '2024-02-19',\n",
       " '2025-02-24',\n",
       " '2024-02-26',\n",
       " '2025-03-03',\n",
       " '2024-03-04',\n",
       " '2025-03-10',\n",
       " '2024-03-11',\n",
       " '2025-03-17',\n",
       " '2024-03-18',\n",
       " '2025-03-24',\n",
       " '2024-03-25',\n",
       " '2025-03-31',\n",
       " '2024-04-01',\n",
       " '2025-04-07',\n",
       " '2024-04-08',\n",
       " '2025-04-14',\n",
       " '2024-04-15',\n",
       " '2025-04-21',\n",
       " '2024-04-22',\n",
       " '2025-04-28',\n",
       " '2024-04-29',\n",
       " '2025-05-05',\n",
       " '2024-05-06',\n",
       " '2025-05-12',\n",
       " '2024-05-13',\n",
       " '2025-05-19',\n",
       " '2024-05-20',\n",
       " '2025-05-26',\n",
       " '2024-05-27']"
      ]
     },
     "execution_count": 5,
     "metadata": {},
     "output_type": "execute_result"
    }
   ],
   "source": [
    "### execise: datetime\n",
    "# create a list of the date of every day we have class this quarter\n",
    "monday = datetime(2024, 3, 25)\n",
    "wednesday = datetime(2023, 3, 27)\n",
    "week = timedelta(days=7)\n",
    "class_dates = []\n",
    "\n",
    "while wednesday < datetime(2024, 5, 31):\n",
    "    class_dates.append(monday)\n",
    "    class_dates.append(wednesday)\n",
    "    monday += week\n",
    "    wednesday += week\n",
    "\n",
    "[x.strftime(\"%Y-%m-%d\") for x in class_dates]\n",
    "     \n"
   ]
  },
  {
   "cell_type": "code",
   "execution_count": 8,
   "metadata": {},
   "outputs": [
    {
     "ename": "ModuleNotFoundError",
     "evalue": "No module named 'some_module'",
     "output_type": "error",
     "traceback": [
      "\u001b[0;31m---------------------------------------------------------------------------\u001b[0m",
      "\u001b[0;31mModuleNotFoundError\u001b[0m                       Traceback (most recent call last)",
      "Cell \u001b[0;32mIn[8], line 14\u001b[0m\n\u001b[1;32m     10\u001b[0m     \u001b[38;5;28;01mreturn\u001b[39;00m a \u001b[38;5;241m+\u001b[39m b\n\u001b[1;32m     11\u001b[0m \u001b[38;5;66;03m# alternative import (only certain module)\u001b[39;00m\n\u001b[1;32m     12\u001b[0m \n\u001b[1;32m     13\u001b[0m \u001b[38;5;66;03m# access these value/functions in another file\u001b[39;00m\n\u001b[0;32m---> 14\u001b[0m \u001b[38;5;28;01mimport\u001b[39;00m \u001b[38;5;21;01msome_module\u001b[39;00m\n\u001b[1;32m     15\u001b[0m retult \u001b[38;5;241m=\u001b[39m some_module\u001b[38;5;241m.\u001b[39mf(\u001b[38;5;241m5\u001b[39m)\n\u001b[1;32m     16\u001b[0m pi \u001b[38;5;241m=\u001b[39m some_module\u001b[38;5;241m.\u001b[39mPI\n",
      "\u001b[0;31mModuleNotFoundError\u001b[0m: No module named 'some_module'"
     ]
    }
   ],
   "source": [
    "### Importing\n",
    "\n",
    "# some_module.py\n",
    "PI = 3.14159\n",
    "# access value from'/function in another file\n",
    "def f(x):\n",
    "    return x + 2\n",
    "\n",
    "def g(a,b):\n",
    "    return a + b\n",
    "# alternative import (only certain module)\n",
    "\n",
    "# access these value/functions in another file\n",
    "import some_module\n",
    "retult = some_module.f(5)\n",
    "pi = some_module.PI\n",
    "\n",
    "# alternative import\n",
    "from some_module import g, PI\n",
    "result = g(5, PI)\n",
    "\n",
    "# import everything\n",
    "from some_module import *\n"
   ]
  },
  {
   "cell_type": "code",
   "execution_count": null,
   "metadata": {},
   "outputs": [],
   "source": [
    "### as \n",
    "import some_module as sum"
   ]
  }
 ],
 "metadata": {
  "kernelspec": {
   "display_name": "Python 3",
   "language": "python",
   "name": "python3"
  },
  "language_info": {
   "codemirror_mode": {
    "name": "ipython",
    "version": 3
   },
   "file_extension": ".py",
   "mimetype": "text/x-python",
   "name": "python",
   "nbconvert_exporter": "python",
   "pygments_lexer": "ipython3",
   "version": "3.11.7"
  }
 },
 "nbformat": 4,
 "nbformat_minor": 2
}
