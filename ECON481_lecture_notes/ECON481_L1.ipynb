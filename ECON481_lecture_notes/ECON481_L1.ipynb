{
 "cells": [
  {
   "cell_type": "code",
   "execution_count": 13,
   "metadata": {},
   "outputs": [],
   "source": [
    "### Strings\n",
    "# +\n",
    "\n",
    "# .join\n",
    "\n",
    "# f , format"
   ]
  },
  {
   "cell_type": "code",
   "execution_count": 14,
   "metadata": {},
   "outputs": [
    {
     "data": {
      "text/plain": [
       "False"
      ]
     },
     "execution_count": 14,
     "metadata": {},
     "output_type": "execute_result"
    }
   ],
   "source": [
    "### Testing Types\n",
    "# NUll\n",
    "var = 2\n",
    "var is None\n",
    "\n",
    "# Type\n",
    "type(2) is var"
   ]
  },
  {
   "cell_type": "code",
   "execution_count": 15,
   "metadata": {},
   "outputs": [
    {
     "name": "stdout",
     "output_type": "stream",
     "text": [
      "['a', 'b', 'c']\n"
     ]
    },
    {
     "data": {
      "text/plain": [
       "['a_new', 'b_new', 'c_new']"
      ]
     },
     "execution_count": 15,
     "metadata": {},
     "output_type": "execute_result"
    }
   ],
   "source": [
    "### Lists \n",
    "list = ['a','b','c']\n",
    "print(list)\n",
    "\n",
    "# list comprehension\n",
    "new_list = [x + '_new' for x in list]\n",
    "new_list"
   ]
  },
  {
   "cell_type": "code",
   "execution_count": 16,
   "metadata": {},
   "outputs": [
    {
     "data": {
      "text/plain": [
       "[str, int, float, bool, NoneType]"
      ]
     },
     "execution_count": 16,
     "metadata": {},
     "output_type": "execute_result"
    }
   ],
   "source": [
    "### Exercise Typing\n",
    "# return a list of types of the elements in the list \n",
    "types_list = ['a', 1, 2., False, None]\n",
    "new_types_list = [type(x) for x in types_list]\n",
    "new_types_list"
   ]
  },
  {
   "cell_type": "code",
   "execution_count": 17,
   "metadata": {},
   "outputs": [
    {
     "data": {
      "text/plain": [
       "['c']"
      ]
     },
     "execution_count": 17,
     "metadata": {},
     "output_type": "execute_result"
    }
   ],
   "source": [
    "### Indexing\n",
    "list = ['a','b','c']\n",
    "# 1st element\n",
    "list[0]\n",
    "# last element\n",
    "list[-1]\n",
    "# first two element\n",
    "list[:2]\n",
    "# everything but the first two element\n",
    "list[2:]"
   ]
  },
  {
   "cell_type": "code",
   "execution_count": 18,
   "metadata": {},
   "outputs": [
    {
     "data": {
      "text/plain": [
       "{'string': 'a', 'int': 1, 'list': ['a', 'b', 'c']}"
      ]
     },
     "execution_count": 18,
     "metadata": {},
     "output_type": "execute_result"
    }
   ],
   "source": [
    "### Dictionarirs\n",
    "list = ['a','b','c']\n",
    "# key:value\n",
    "dict = {'string': 'a',\n",
    "        'int': 1,\n",
    "        'list': list }\n",
    "dict\n",
    "\n",
    "# dict index\n",
    "dict['string']\n",
    "# -> 'a'\n",
    "\n",
    "# all keys\n",
    "dict.keys()\n",
    "# -> dict_keys(['string', 'int', 'list'])"
   ]
  },
  {
   "cell_type": "code",
   "execution_count": 25,
   "metadata": {},
   "outputs": [
    {
     "data": {
      "text/plain": [
       "{0: 'a', 1: 'b', 2: 'c'}"
      ]
     },
     "execution_count": 25,
     "metadata": {},
     "output_type": "execute_result"
    }
   ],
   "source": [
    "# creat dict using list comprehension\n",
    "list = ['a','b','c']\n",
    "list_len = len(list)\n",
    "idx_seq = range(list_len)\n",
    "# range(3) -> [0, 1, 2] = idx_seq\n",
    "# range(1,4) -> [1, 2, 3]\n",
    "\n",
    "new_dict = {x: list[x] for x in idx_seq}\n",
    "# new_dict -> {0: 'a', 1: 'b', 2: 'c'}\n",
    "\n",
    "# python index everything from 0\n"
   ]
  },
  {
   "cell_type": "code",
   "execution_count": 31,
   "metadata": {},
   "outputs": [
    {
     "data": {
      "text/plain": [
       "3"
      ]
     },
     "execution_count": 31,
     "metadata": {},
     "output_type": "execute_result"
    }
   ],
   "source": [
    "### Tuples\n",
    "# cannot change individual element\n",
    "# can do define multiple variables in line\n",
    "a,b=(1,2)\n",
    "a+b"
   ]
  },
  {
   "cell_type": "code",
   "execution_count": 34,
   "metadata": {},
   "outputs": [
    {
     "data": {
      "text/plain": [
       "['a_new', 'b_new', 'c_new']"
      ]
     },
     "execution_count": 34,
     "metadata": {},
     "output_type": "execute_result"
    }
   ],
   "source": [
    "### For Loops \n",
    "# creat new list\n",
    "list = ['a','b','c']\n",
    "new_list = [] #empty list\n",
    "for list_element in list:\n",
    "    new_list.append(list_element + '_new')\n",
    "new_list"
   ]
  },
  {
   "cell_type": "code",
   "execution_count": 37,
   "metadata": {},
   "outputs": [
    {
     "data": {
      "text/plain": [
       "15"
      ]
     },
     "execution_count": 37,
     "metadata": {},
     "output_type": "execute_result"
    }
   ],
   "source": [
    "# add all the numbers from 1 to 5\n",
    "sum = 0\n",
    "for num in range(1,6):\n",
    "    sum += num # sum = sum + num \n",
    "sum\n",
    "\n",
    "# range(0,7,2) -> [0, 2, 4, 6]\n",
    "# rannge(5,1,-1) -> [5, 4, 3, 2]"
   ]
  },
  {
   "cell_type": "code",
   "execution_count": 40,
   "metadata": {},
   "outputs": [
    {
     "data": {
      "text/plain": [
       "(63, 2016)"
      ]
     },
     "execution_count": 40,
     "metadata": {},
     "output_type": "execute_result"
    }
   ],
   "source": [
    "### While Loop\n",
    "# find sum i from 0 to n , where sum <= 2024\n",
    "sum = 0\n",
    "n = 0\n",
    "while sum + (n+1) <= 2024:\n",
    "    n += 1\n",
    "    sum += n\n",
    "n, sum"
   ]
  },
  {
   "cell_type": "code",
   "execution_count": 43,
   "metadata": {},
   "outputs": [
    {
     "data": {
      "text/plain": [
       "26.0"
      ]
     },
     "execution_count": 43,
     "metadata": {},
     "output_type": "execute_result"
    }
   ],
   "source": [
    "### if / else\n",
    "# cannot +=: 'int' and 'str'\n",
    "# +=: 'int' and 'float'\n",
    "mixed_list = [1, 5, '2', 4, '12', '02']\n",
    "out = 0\n",
    "for i in range(len(mixed_list)):\n",
    "    if isinstance(mixed_list[i], str): #ifinstance checking num type\n",
    "       out += float(mixed_list[i])\n",
    "    else:\n",
    "        out += mixed_list[i]\n",
    "out"
   ]
  },
  {
   "cell_type": "code",
   "execution_count": 1,
   "metadata": {},
   "outputs": [
    {
     "data": {
      "text/plain": [
       "(25, 45, 30)"
      ]
     },
     "execution_count": 1,
     "metadata": {},
     "output_type": "execute_result"
    }
   ],
   "source": [
    "### elif\n",
    "data_list = [10, 20, 30, 15, 25]\n",
    "label_list = ['red', 'green', 'blue', 'red', 'green']\n",
    "red_sum, green_sum, blue_sum = 0,0,0\n",
    "for i in range(len(data_list)):\n",
    "    if label_list[i] == 'red':\n",
    "        red_sum += data_list[i]\n",
    "    elif label_list[i] == 'green':\n",
    "        green_sum += data_list[i]\n",
    "    else:\n",
    "        blue_sum += data_list[i]\n",
    "\n",
    "red_sum, green_sum, blue_sum"
   ]
  }
 ],
 "metadata": {
  "kernelspec": {
   "display_name": "Python 3",
   "language": "python",
   "name": "python3"
  },
  "language_info": {
   "codemirror_mode": {
    "name": "ipython",
    "version": 3
   },
   "file_extension": ".py",
   "mimetype": "text/x-python",
   "name": "python",
   "nbconvert_exporter": "python",
   "pygments_lexer": "ipython3",
   "version": "3.11.7"
  }
 },
 "nbformat": 4,
 "nbformat_minor": 2
}
