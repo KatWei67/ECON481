{
 "cells": [
  {
   "cell_type": "code",
   "execution_count": 1,
   "metadata": {},
   "outputs": [],
   "source": [
    "import statsmodels.api as sm \n",
    "import statsmodels.formula.api as smf"
   ]
  },
  {
   "cell_type": "code",
   "execution_count": 6,
   "metadata": {},
   "outputs": [],
   "source": [
    "import numpy as np\n",
    "import pandas as pd\n",
    "# rng = np.random.default_rng(seed=12345)"
   ]
  },
  {
   "cell_type": "code",
   "execution_count": 3,
   "metadata": {},
   "outputs": [],
   "source": []
  },
  {
   "cell_type": "code",
   "execution_count": 7,
   "metadata": {},
   "outputs": [
    {
     "name": "stdout",
     "output_type": "stream",
     "text": [
      "Correctly specified model summary:\n",
      "                            OLS Regression Results                            \n",
      "==============================================================================\n",
      "Dep. Variable:                      y   R-squared:                       0.517\n",
      "Model:                            OLS   Adj. R-squared:                  0.517\n",
      "Method:                 Least Squares   F-statistic:                     1069.\n",
      "Date:                Mon, 15 Apr 2024   Prob (F-statistic):          5.73e-160\n",
      "Time:                        09:08:38   Log-Likelihood:                -2108.8\n",
      "No. Observations:                1000   AIC:                             4222.\n",
      "Df Residuals:                     998   BIC:                             4231.\n",
      "Df Model:                           1                                         \n",
      "Covariance Type:            nonrobust                                         \n",
      "==============================================================================\n",
      "                 coef    std err          t      P>|t|      [0.025      0.975]\n",
      "------------------------------------------------------------------------------\n",
      "Intercept      2.0649      0.063     32.707      0.000       1.941       2.189\n",
      "sin_x          3.0933      0.095     32.695      0.000       2.908       3.279\n",
      "==============================================================================\n",
      "Omnibus:                        0.087   Durbin-Watson:                   2.064\n",
      "Prob(Omnibus):                  0.958   Jarque-Bera (JB):                0.055\n",
      "Skew:                           0.017   Prob(JB):                        0.973\n",
      "Kurtosis:                       3.012   Cond. No.                         1.50\n",
      "==============================================================================\n",
      "\n",
      "Notes:\n",
      "[1] Standard Errors assume that the covariance matrix of the errors is correctly specified.\n",
      "\n",
      "Incorrectly specified model summary:\n",
      "                            OLS Regression Results                            \n",
      "==============================================================================\n",
      "Dep. Variable:                      y   R-squared:                       0.438\n",
      "Model:                            OLS   Adj. R-squared:                  0.437\n",
      "Method:                 Least Squares   F-statistic:                     777.0\n",
      "Date:                Mon, 15 Apr 2024   Prob (F-statistic):          6.28e-127\n",
      "Time:                        09:08:38   Log-Likelihood:                -2184.9\n",
      "No. Observations:                1000   AIC:                             4374.\n",
      "Df Residuals:                     998   BIC:                             4384.\n",
      "Df Model:                           1                                         \n",
      "Covariance Type:            nonrobust                                         \n",
      "==============================================================================\n",
      "                 coef    std err          t      P>|t|      [0.025      0.975]\n",
      "------------------------------------------------------------------------------\n",
      "Intercept      2.0496      0.068     30.090      0.000       1.916       2.183\n",
      "x              1.8955      0.068     27.875      0.000       1.762       2.029\n",
      "==============================================================================\n",
      "Omnibus:                        2.453   Durbin-Watson:                   2.030\n",
      "Prob(Omnibus):                  0.293   Jarque-Bera (JB):                2.587\n",
      "Skew:                           0.006   Prob(JB):                        0.274\n",
      "Kurtosis:                       3.249   Cond. No.                         1.03\n",
      "==============================================================================\n",
      "\n",
      "Notes:\n",
      "[1] Standard Errors assume that the covariance matrix of the errors is correctly specified.\n"
     ]
    }
   ],
   "source": [
    "### Exercise 1\n",
    "np.random.seed(481)\n",
    "# Simulate 1000 observations\n",
    "x = np.random.normal(0, 1, 1000)\n",
    "epsilon = np.random.normal(0, 2, 1000)\n",
    "\n",
    "# Generate y based on the true model\n",
    "y = 2 + 3 * np.sin(x) + epsilon\n",
    "\n",
    "# Correctly specified model\n",
    "# Create a DataFrame to use with statsmodels\n",
    "data_correct = pd.DataFrame({'x': x, 'y': y, 'sin_x': np.sin(x)})\n",
    "\n",
    "# Fit the correctly specified model\n",
    "model_correct = smf.ols('y ~ sin_x', data=data_correct).fit()\n",
    "\n",
    "# Incorrectly specified model\n",
    "# Here we only use x and not sin(x)\n",
    "data_incorrect = pd.DataFrame({'x': x, 'y': y})\n",
    "\n",
    "# Fit the incorrectly specified model\n",
    "model_incorrect = smf.ols('y ~ x', data=data_incorrect).fit()\n",
    "\n",
    "# Print out the summary for both models\n",
    "print(\"Correctly specified model summary:\")\n",
    "print(model_correct.summary())\n",
    "print(\"\\nIncorrectly specified model summary:\")\n",
    "print(model_incorrect.summary())\n"
   ]
  },
  {
   "cell_type": "code",
   "execution_count": 8,
   "metadata": {},
   "outputs": [],
   "source": [
    "# other way \n",
    "# y_correct, X_correct = patsy.dmatrices('y~np.sin(x)')\n",
    "# y_incorrect, X_incorrect = patsy.dmatrices('y~x')"
   ]
  },
  {
   "cell_type": "code",
   "execution_count": null,
   "metadata": {},
   "outputs": [],
   "source": [
    "### scikit-learn\n",
    "# machine learning package\n"
   ]
  }
 ],
 "metadata": {
  "kernelspec": {
   "display_name": "base",
   "language": "python",
   "name": "python3"
  },
  "language_info": {
   "codemirror_mode": {
    "name": "ipython",
    "version": 3
   },
   "file_extension": ".py",
   "mimetype": "text/x-python",
   "name": "python",
   "nbconvert_exporter": "python",
   "pygments_lexer": "ipython3",
   "version": "3.11.0"
  }
 },
 "nbformat": 4,
 "nbformat_minor": 2
}
